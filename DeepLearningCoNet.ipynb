{
 "cells": [
  {
   "cell_type": "code",
   "execution_count": 11,
   "metadata": {},
   "outputs": [],
   "source": [
    "from keras.layers import Input, Flatten, Dense\n",
    "from keras.models import Model\n",
    "import os\n",
    "import pandas as pd"
   ]
  },
  {
   "cell_type": "code",
   "execution_count": 9,
   "metadata": {},
   "outputs": [
    {
     "name": "stdout",
     "output_type": "stream",
     "text": [
      "['.git', '.gitignore', '.idea', '.ipynb_checkpoints', '.vs', '.vscode', 'alias.py', 'clean.py', 'cluster_data.py', 'compare_clusters.py', 'data', 'graph.py', 'graphs.py', 'hierarchical.py', 'kFeat.txt', 'kmeans.py', 'knn.py', 'ksa2.txt', 'main.py', 'network.py', 'oldMl', 'package-lock.json', 'pca.py', 'pipe_line.py', 'protein.py', 'README.md', 'results', 'stats.py', 'testing', 'Untitled.ipynb', 'venv', 'visual_data.py', 'web', '__pycache__']\n"
     ]
    }
   ],
   "source": [
    "print(os.listdir(os.path.dirname(\"./\")))"
   ]
  },
  {
   "cell_type": "code",
   "execution_count": null,
   "metadata": {},
   "outputs": [],
   "source": [
    "phosData = pd.read_csv(\"./data/\")\n",
    "\n",
    "ClassCount = 50"
   ]
  },
  {
   "cell_type": "code",
   "execution_count": null,
   "metadata": {},
   "outputs": [],
   "source": [
    "#create network\n",
    "inputLayer = Input((24,1))\n",
    "x = Flatten()(inputLayer)\n",
    "x = Dense(100, activation = 'relu')(x)\n",
    "x = Dense(75, activation = 'relu')(x)\n",
    "\n",
    "outputLayer = Dense(ClassCount, activation = 'softmax')(x)\n",
    "\n",
    "model = Model(inputLayer, outputLayer)"
   ]
  }
 ],
 "metadata": {
  "kernelspec": {
   "display_name": "generative",
   "language": "python",
   "name": "generative"
  },
  "language_info": {
   "codemirror_mode": {
    "name": "ipython",
    "version": 3
   },
   "file_extension": ".py",
   "mimetype": "text/x-python",
   "name": "python",
   "nbconvert_exporter": "python",
   "pygments_lexer": "ipython3",
   "version": "3.6.9"
  }
 },
 "nbformat": 4,
 "nbformat_minor": 2
}
